{
  "metadata": {
    "kernelspec": {
      "name": "python",
      "display_name": "Python (Pyodide)",
      "language": "python"
    },
    "language_info": {
      "codemirror_mode": {
        "name": "python",
        "version": 3
      },
      "file_extension": ".py",
      "mimetype": "text/x-python",
      "name": "python",
      "nbconvert_exporter": "python",
      "pygments_lexer": "ipython3",
      "version": "3.8"
    }
  },
  "nbformat_minor": 5,
  "nbformat": 4,
  "cells": [
    {
      "cell_type": "markdown",
      "source": "***1. Известно, что генеральная совокупность распределена нормально\nсо средним квадратическим отклонением, равным 16.\nНайти доверительный интервал для оценки математического ожидания a с надежностью 0.95,\nесли выборочная средняя M = 80, а объем выборки n = 256.***",
      "metadata": {},
      "id": "075417b5-0e11-4f8a-8db4-fe1ca50077ef"
    },
    {
      "cell_type": "code",
      "source": "import numpy as np\n\ndef Z_interval(M,Z,std,n):\n    return f'[{M-Z*(std/np.sqrt(n))};{M+Z*(std/np.sqrt(n))}]'\n    \n\nstd = 16\nM = 80\nn = 256\nZ = 1.96\nprint(Z_interval(M,Z,std,n))",
      "metadata": {
        "trusted": true
      },
      "execution_count": 3,
      "outputs": [
        {
          "name": "stdout",
          "text": "[78.04;81.96]\n",
          "output_type": "stream"
        }
      ],
      "id": "5d3f0540-cfc5-4d97-9a1e-00a961eb7a83"
    },
    {
      "cell_type": "markdown",
      "source": "***2. В результате 10 независимых измерений некоторой величины X, выполненных с одинаковой точностью,\nполучены опытные данные:\n6.9, 6.1, 6.2, 6.8, 7.5, 6.3, 6.4, 6.9, 6.7, 6.1\nПредполагая, что результаты измерений подчинены нормальному закону распределения вероятностей,\nоценить истинное значение величины X при помощи доверительного интервала, покрывающего это\nзначение с доверительной вероятностью 0,95.***",
      "metadata": {},
      "id": "8d2f1516-bcd6-44ca-a7d0-d02ac58fb15d"
    },
    {
      "cell_type": "code",
      "source": "def T_interval(M,T,std,n):\n    return f'[{round(M-T*(std/np.sqrt(n)),4)};{round(M+T*(std/np.sqrt(n)),4)}]'\n\ntest_list = [6.9, 6.1, 6.2, 6.8, 7.5, 6.3, 6.4, 6.9, 6.7, 6.1]\nstd = np.std(test_list, ddof=1)\nn = len(test_list)\nT = 2.262\nM = np.mean(test_list)\nprint(T_interval(M,T,std,n))",
      "metadata": {
        "trusted": true
      },
      "execution_count": 19,
      "outputs": [
        {
          "name": "stdout",
          "text": "[6.2675;6.9125]\n",
          "output_type": "stream"
        }
      ],
      "id": "3639015a-389f-4ff0-9a7d-c1c91514d4b6"
    },
    {
      "cell_type": "markdown",
      "source": "***3.Проведите тест гипотезы. Утверждается, что шарики для подшипников, изготовленные автоматическим станком, имеют средний диаметр 17 мм.\nИспользуя односторонний критерий с α=0,05, проверить эту гипотезу, если в выборке из n=100 шариков средний диаметр\nоказался равным 17.5 мм, а дисперсия известна и равна 4 кв. мм.***",
      "metadata": {},
      "id": "82261882-9fc2-46ee-8d45-aa2e58812ed3"
    },
    {
      "cell_type": "code",
      "source": "M0 = 17\nM1 = 17.5\na = 0.05\nn = 100\nstd = 2\n\nZ_tab = 1.65\nZ = (M1-M0)/(std/np.sqrt(n))\nif Z>Z_tab:\n    print('Теория H0 о том,что шарики для подшипников, изготовленные автоматическим станком, имеют средний диаметр 17 мм, на уровне α=0,05 неверна')",
      "metadata": {
        "trusted": true
      },
      "execution_count": 25,
      "outputs": [
        {
          "name": "stdout",
          "text": "Теория H0 о том,что шарики для подшипников, изготовленные автоматическим станком, имеют средний диаметр 17 мм, на уровне α=0,05 неверна\n",
          "output_type": "stream"
        }
      ],
      "id": "dcf7762a-cfbd-4abe-bf68-86723aefb2ef"
    },
    {
      "cell_type": "markdown",
      "source": "***4.Проведите тест гипотезы. Продавец утверждает, что средний вес пачки печенья составляет 200 г.\nИз партии извлечена выборка из 10 пачек. Вес каждой пачки составляет:\n202, 203, 199, 197, 195, 201, 200, 204, 194, 190.\nИзвестно, что их веса распределены нормально.\nВерно ли утверждение продавца, если учитывать, что доверительная вероятность равна 99%? (Провести двусторонний тест.)***",
      "metadata": {},
      "id": "952358df-a4f6-4478-a2f0-71faf8b793d6"
    },
    {
      "cell_type": "code",
      "source": "M0 = 200\ntest_list = [202, 203, 199, 197, 195, 201, 200, 204, 194, 190]\np_value = 0.99\nstd = np.std(test_list, ddof=1)\nM = np.mean(test_list)\nn = len(test_list)\na = 0.005\nZ_tab_1 = -2.58\nZ_tab_2 = 2.58\nZ = (M-M0)/(std/np.sqrt(n))\nif Z_tab_1<Z<Z_tab_2:\n    print('Утверждение продавца верно')",
      "metadata": {
        "trusted": true
      },
      "execution_count": 33,
      "outputs": [
        {
          "name": "stdout",
          "text": "Утверждение продавца верно\n",
          "output_type": "stream"
        }
      ],
      "id": "4e8892d2-17e1-4ba9-9a80-da2eece2ff9a"
    }
  ]
}